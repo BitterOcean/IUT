{
 "cells": [
  {
   "cell_type": "markdown",
   "metadata": {},
   "source": [
    "# Least Squares Estimation\n",
    "\n",
    "## Instructions\n",
    "In this assignment you will use LS estimation in two datasets and compare it to Gradient Descent.\n",
    "\n",
    "#### 1. hight and weight:\n",
    "given hights of people you will estimate weight of those people by LS and then compare it with Gradient Descent.\n",
    "\n",
    "#### 2. Load News popularity data:\n",
    "This is a dataset of news with some parameters to predict how many shares every news get.\n",
    "To get more familar with the dataset please open `OnlineNewsPopularity.csv` and check the columns.\n"
   ]
  },
  {
   "cell_type": "code",
   "execution_count": 1,
   "metadata": {},
   "outputs": [],
   "source": [
    "# Useful starting lines\n",
    "%matplotlib inline\n",
    "import numpy as np\n",
    "import matplotlib.pyplot as plt\n",
    "%load_ext autoreload\n",
    "%autoreload 2"
   ]
  },
  {
   "cell_type": "markdown",
   "metadata": {},
   "source": [
    "# 1. Least Squares Estimation\n",
    "Least squares estimation is one of the fundamental machine learning algorithms.\n",
    "Consider the case where we have a linear model for predicting housing prices. We are predicting the housing prices based on features in the \n",
    "housing dataset. If we denote the features as $\\boldsymbol x_0, \\dotsc, \\boldsymbol x_n$ and collect them into a vector $\\boldsymbol {x}$, and the price of the houses as $y$. Assuming that we have \n",
    "a prediction model in the way such that $\\hat{y}_i =  f(\\boldsymbol {x}_i) = \\boldsymbol \\theta^T\\boldsymbol {x}_i$.\n",
    "\n",
    "\n",
    "If we collect the dataset into a $(N,D)$ data matrix $\\boldsymbol X$, we can write down our model like this:\n",
    "\n",
    "$$\n",
    "\\begin{bmatrix} \n",
    "\\boldsymbol{x}_1^T \\\\\n",
    "\\vdots \\\\ \n",
    "\\boldsymbol{x}_N^T \n",
    "\\end{bmatrix} \\boldsymbol{\\theta} = \\begin{bmatrix} \n",
    "y_1 \\\\\n",
    "\\vdots \\\\ \n",
    "y_2 \n",
    "\\end{bmatrix},\n",
    "$$\n",
    "\n",
    "i.e.,\n",
    "\n",
    "$$\n",
    "\\boldsymbol X\\boldsymbol{\\theta} = \\boldsymbol{y}.\n",
    "$$\n",
    "\n",
    "Note that the data points are the *rows* of the data matrix, i.e., every column is a dimension of the data. "
   ]
  },
  {
   "cell_type": "markdown",
   "metadata": {},
   "source": [
    "## Load the first data: Height and weight\n"
   ]
  },
  {
   "cell_type": "code",
   "execution_count": 2,
   "metadata": {},
   "outputs": [],
   "source": [
    "def load_first_data(sub_sample=True, add_outlier=False):\n",
    "    \"\"\"Load data and convert it to the metric system.\"\"\"\n",
    "    \n",
    "    path_dataset = \"height_weight_genders.csv\"\n",
    "    \n",
    "    data = np.genfromtxt(\n",
    "        path_dataset, delimiter=\",\", skip_header=1, usecols=[1, 2])\n",
    "    height = data[:, 0]\n",
    "    weight = data[:, 1]\n",
    "    gender = np.genfromtxt(\n",
    "        path_dataset, delimiter=\",\", skip_header=1, usecols=[0],\n",
    "        converters={0: lambda x: 0 if b\"Male\" in x else 1})\n",
    "    # Convert to metric system\n",
    "    height *= 0.025\n",
    "    weight *= 0.454\n",
    "\n",
    "    # sub-sample\n",
    "    if sub_sample:\n",
    "        height = height[::50]\n",
    "        weight = weight[::50]\n",
    "\n",
    "    if add_outlier:\n",
    "        # outlier experiment\n",
    "        height = np.concatenate([height, [1.1, 1.2]])\n",
    "        weight = np.concatenate([weight, [51.5/0.454, 55.3/0.454]])\n",
    "    \n",
    "    return height, weight, gender"
   ]
  },
  {
   "cell_type": "markdown",
   "metadata": {},
   "source": [
    "## Standardizing the data\n",
    "In this function we will standarize the dataset:\n",
    "$$x = \\frac{x - \\mu}{\\sigma}$$"
   ]
  },
  {
   "cell_type": "code",
   "execution_count": 3,
   "metadata": {},
   "outputs": [],
   "source": [
    "def standardize(x):\n",
    "    \"\"\"\n",
    "    Standardize the original data set.\n",
    "    :param x: the numpy array \n",
    "    :returns: standardized_x, mean_x, std_x\n",
    "    \"\"\"\n",
    "    # Your code here\n",
    "    try:\n",
    "        mean_x = np.mean(x)\n",
    "        std_x  = np.std(x)\n",
    "        x      = (x - mean_x)/std_x\n",
    "        return x, mean_x, std_x\n",
    "\n",
    "    except:\n",
    "        raise NotImplementedError # delete this line after finishing this function"
   ]
  },
  {
   "cell_type": "code",
   "execution_count": 4,
   "metadata": {},
   "outputs": [],
   "source": [
    "def build_model_data(height, weight):\n",
    "    \"\"\"Form (y,tX) to get regression data in matrix form.\"\"\"\n",
    "    y = weight\n",
    "    x = height\n",
    "    num_samples = len(y)\n",
    "    tx = np.c_[np.ones(num_samples), x]\n",
    "    return y, tx"
   ]
  },
  {
   "cell_type": "markdown",
   "metadata": {},
   "source": [
    "## Height and weight"
   ]
  },
  {
   "cell_type": "code",
   "execution_count": 5,
   "metadata": {},
   "outputs": [
    {
     "name": "stdout",
     "output_type": "stream",
     "text": [
      "mean_x, std_x: (1.6591889938705313, 0.09618339348893848)\n"
     ]
    }
   ],
   "source": [
    "height, weight, gender = load_first_data(sub_sample=False, add_outlier=False)\n",
    "x, mean_x, std_x = standardize(height)\n",
    "b, A = build_model_data(x, weight)\n",
    "\n",
    "print(f\"mean_x, std_x: {mean_x, std_x}\")\n",
    "b.shape, A.shape\n",
    "epsilon = 1e-5"
   ]
  },
  {
   "cell_type": "markdown",
   "metadata": {},
   "source": [
    "## Plotting the data"
   ]
  },
  {
   "cell_type": "code",
   "execution_count": 6,
   "metadata": {},
   "outputs": [
    {
     "data": {
      "text/plain": [
       "Text(0, 0.5, 'weight')"
      ]
     },
     "execution_count": 6,
     "metadata": {},
     "output_type": "execute_result"
    },
    {
     "data": {
      "image/png": "[encoded data removed]",
      "text/plain": [
       "<Figure size 432x288 with 2 Axes>"
      ]
     },
     "metadata": {
      "needs_background": "light"
     },
     "output_type": "display_data"
    }
   ],
   "source": [
    "# plt.subplot(nrows, ncols, plot_number)\n",
    "plt.subplot(1, 2, 1)\n",
    "plt.scatter(height, b)\n",
    "plt.xlabel('unnormalized height')\n",
    "plt.ylabel('weight')\n",
    "plt.subplot(1, 2, 2)\n",
    "plt.scatter(A[:, 1], b)\n",
    "plt.xlabel('normalized height')\n",
    "plt.ylabel('weight')"
   ]
  },
  {
   "cell_type": "markdown",
   "metadata": {},
   "source": [
    "# Calculate LS\n",
    "Consider the case where we have a linear model for predicting housing prices. We are predicting the housing prices based on features in the \n",
    "housing dataset. If we denote the features as $\\boldsymbol x_0, \\dotsc, \\boldsymbol x_n$ and collect them into a vector $\\boldsymbol {x}$, and the price of the houses as $y$. Assuming that we have \n",
    "a prediction model in the way such that $\\hat{y}_i =  f(\\boldsymbol {x}_i) = \\boldsymbol \\theta^T\\boldsymbol {x}_i$.\n",
    "\n",
    "\n",
    "If we collect the dataset into a $(N,D)$ data matrix $\\boldsymbol X$, we can write down our model like this:\n",
    "\n",
    "$$\n",
    "\\begin{bmatrix} \n",
    "\\boldsymbol{x}_1^T \\\\\n",
    "\\vdots \\\\ \n",
    "\\boldsymbol{x}_N^T \n",
    "\\end{bmatrix} \\boldsymbol{\\theta} = \\begin{bmatrix} \n",
    "y_1 \\\\\n",
    "\\vdots \\\\ \n",
    "y_2 \n",
    "\\end{bmatrix},\n",
    "$$\n",
    "\n",
    "i.e.,\n",
    "\n",
    "$$\n",
    "\\boldsymbol X\\boldsymbol{\\theta} = \\boldsymbol{y}.\n",
    "$$\n",
    "\n",
    "Note that the data points are the *rows* of the data matrix, i.e., every column is a dimension of the data. \n",
    "\n",
    "Our goal is to find the best $\\boldsymbol\\theta$ such that we minimize the following objective (least square).\n",
    "\n",
    "$$\n",
    "\\begin{eqnarray} \n",
    "& \\sum^n_{i=1}{\\lVert \\bar{y_i} - y_i \\rVert^2} \\\\\n",
    "&= \\sum^n_{i=1}{\\lVert \\boldsymbol \\theta^T\\boldsymbol{x}_i - y_i \\rVert^2} \\\\\n",
    "&= (\\boldsymbol X\\boldsymbol {\\theta} - \\boldsymbol y)^T(\\boldsymbol X\\boldsymbol {\\theta} - \\boldsymbol y).\n",
    "\\end{eqnarray}\n",
    "$$\n",
    "\n",
    "If we set the gradient of the above objective to $\\boldsymbol  0$, we have\n",
    "$$\n",
    "\\begin{eqnarray} \n",
    "\\nabla_\\theta(\\boldsymbol X\\boldsymbol {\\theta} - \\boldsymbol y)^T(\\boldsymbol X\\boldsymbol {\\theta} - \\boldsymbol y) &=& \\boldsymbol 0 \\\\\n",
    "\\nabla_\\theta(\\boldsymbol {\\theta}^T\\boldsymbol X^T - \\boldsymbol y^T)(\\boldsymbol X\\boldsymbol {\\theta} - \\boldsymbol y) &=& \\boldsymbol 0 \\\\\n",
    "\\nabla_\\theta(\\boldsymbol {\\theta}^T\\boldsymbol X^T\\boldsymbol X\\boldsymbol {\\theta} - \\boldsymbol y^T\\boldsymbol X\\boldsymbol \\theta - \\boldsymbol \\theta^T\\boldsymbol X^T\\boldsymbol y + \\boldsymbol y^T\\boldsymbol y ) &=& \\boldsymbol 0 \\\\\n",
    "2\\boldsymbol X^T\\boldsymbol X\\theta - 2\\boldsymbol X^T\\boldsymbol y &=& \\boldsymbol 0 \\\\\n",
    "\\boldsymbol X^T\\boldsymbol X\\boldsymbol \\theta        &=& \\boldsymbol X^T\\boldsymbol y.\n",
    "\\end{eqnarray}\n",
    "$$\n",
    "\n",
    "The solution that gives zero gradient solves (which we call the maximum likelihood estimator) the following equation:\n",
    "\n",
    "$$\\boldsymbol X^T\\boldsymbol X\\boldsymbol \\theta = \\boldsymbol X^T\\boldsymbol y.$$\n",
    "\n",
    "_This is exactly the same as the normal equation we have for projections_.\n",
    "\n",
    "This means that if we solve for $\\boldsymbol X^T\\boldsymbol X\\boldsymbol \\theta = \\boldsymbol X^T\\boldsymbol y.$ we would find the best $\\boldsymbol \\theta = (\\boldsymbol X^T\\boldsymbol X)^{-1}\\boldsymbol X^T\\boldsymbol y$, i.e. the $\\boldsymbol \\theta$ which minimizes our objective.\n",
    "\n",
    "In this section we try to calculate the LS for prdicting our data by solving the exact equation:\n",
    "\n",
    "$$A^t A x = A^t b$$"
   ]
  },
  {
   "cell_type": "markdown",
   "metadata": {},
   "source": [
    "Please fill in the functions `solve_least_square` below:"
   ]
  },
  {
   "cell_type": "code",
   "execution_count": 7,
   "metadata": {},
   "outputs": [],
   "source": [
    "def solve_least_square(A, b):\n",
    "    # YOUR CODE HERE\n",
    "    # You can use library routines in `np.linalg.*`\n",
    "    try:\n",
    "        return np.linalg.lstsq(A, b, rcond=None)[0] # return m, c\n",
    "        \n",
    "    except:\n",
    "        raise NotImplementedError"
   ]
  },
  {
   "cell_type": "markdown",
   "metadata": {},
   "source": [
    "## Plotting the line\n",
    "Call `solve_least_square` and plot the line on the data.\n",
    "\n",
    "you can use `plt.plot(x, ax+b, \"RED\")` for plotting the y=ax+b line"
   ]
  },
  {
   "cell_type": "code",
   "execution_count": 8,
   "metadata": {},
   "outputs": [
    {
     "data": {
      "image/png": "[encoded data removed]",
      "text/plain": [
       "<Figure size 432x288 with 1 Axes>"
      ]
     },
     "metadata": {
      "needs_background": "light"
     },
     "output_type": "display_data"
    }
   ],
   "source": [
    "# YOUR CODE HERE\n",
    "try:\n",
    "    x = solve_least_square(A, b)\n",
    "    plt.plot(A[:,1], b, 'o', label='Original data', markersize=10)\n",
    "    plt.plot(A[:,1], np.matmul(A, x), 'r', label='Fitted line')\n",
    "    plt.legend()\n",
    "    plt.show()\n",
    "    \n",
    "except:\n",
    "    raise NotImplementedError"
   ]
  },
  {
   "cell_type": "markdown",
   "metadata": {},
   "source": [
    "# 2. Gradient Descent\n",
    "Gradient Descent is an iterative optimization algorithm to find the minimum of a function.\n",
    "\n",
    "Here that function is our Loss Function which is the Least Square function.\n",
    "\n",
    "In this section, we try to calculate the LS of the same data by an iterative algorithm.\n",
    "we have LS as our loss function. Our goal is to minimize this loss function to obtain the most accurate value for weight.\n",
    "<img src=\"gd.png \" width=\"600\" align=\"center\">\n",
    "This algorithm consists of 4 steps:\n",
    "### Step 1\n",
    "initialling the values to x (ex. [1, 1]).\n",
    "\n",
    "Let (`L`) be our learning rate. This controls how much the value of x changes with each step. L could be a small value for good accuracy.\n",
    "\n",
    "### Step 2\n",
    "Calculate the gradient of the loss function (`G`).\n",
    "\n",
    "### Step 3\n",
    "Now we update the current value of `x` using the following equation:\n",
    "`x` = `x` - `L` * `G`\n",
    "\n",
    "### Step 4\n",
    "We repeat this process until our loss function is a very small value or ideally 0 (which means 0 error or 100% accuracy).\n",
    "\n",
    "The value of x that we are left with now will be the optimum value.\n"
   ]
  },
  {
   "cell_type": "markdown",
   "metadata": {},
   "source": [
    "## Computing the Objective Function\n",
    "Fill in the `calculate_objective` function below:\n",
    "\n",
    "where `Axmb` is given and we just want to compute the LS where  `Axmb` = $Ax - b$"
   ]
  },
  {
   "cell_type": "code",
   "execution_count": 9,
   "metadata": {},
   "outputs": [],
   "source": [
    "def calculate_objective(Axmb):\n",
    "    \"\"\"\n",
    "    Calculate the mean squared error for vector Axmb = Ax - b.\n",
    "    :param Axmb: the n*1 vector of Ax - b\n",
    "    :return: copmutes the least square of Ax-b\n",
    "    \"\"\"\n",
    "    # Your code here\n",
    "    try:\n",
    "        return Axmb @ Axmb\n",
    "    \n",
    "    except:\n",
    "        raise NotImplementedError"
   ]
  },
  {
   "cell_type": "markdown",
   "metadata": {},
   "source": [
    "Please fill in the functions `compute_gradient` below:\n",
    "\n",
    "you should calculate the gradient of LS function."
   ]
  },
  {
   "cell_type": "code",
   "execution_count": 10,
   "metadata": {},
   "outputs": [],
   "source": [
    "def compute_gradient(b, A, x):\n",
    "    \"\"\"\n",
    "    Computing the gradient of least square error\n",
    "    :param b: the output that we should estimate\n",
    "    :param A: the input data that we use it to get b\n",
    "    :param x: the vector of weights that should minimize the loss functions\n",
    "    :return: returns the gradient of LS in x, and also Ax-b (as Axmb)\n",
    "    \"\"\"\n",
    "    # YOUR CODE HERE\n",
    "    try:\n",
    "        Axmb = np.matmul(A, x) - b\n",
    "        grad = np.matmul(Axmb, A)\n",
    "        return grad, Axmb\n",
    "\n",
    "    except:\n",
    "        raise NotImplementedError"
   ]
  },
  {
   "cell_type": "markdown",
   "metadata": {},
   "source": [
    "Please fill in the functions `gradient_descent` below:\n",
    "\n",
    "where `gamma` is the learning rate."
   ]
  },
  {
   "cell_type": "code",
   "execution_count": 11,
   "metadata": {},
   "outputs": [],
   "source": [
    "def gradient_descent(b, A, initial_x, max_iters, gamma):\n",
    "    \"\"\"Gradient descent algorithm.\"\"\"\n",
    "    # Define parameters to store x and objective func. values\n",
    "    xs = [initial_x]\n",
    "    objectives = [-1]\n",
    "    x = initial_x\n",
    "    for n_iter in range(max_iters):\n",
    "        # TODO: compute gradient and objective function\n",
    "        grad, Axmb = compute_gradient(b, A, x)\n",
    "\n",
    "        # TODO: update x by a gradient descent step\n",
    "        x = x - np.multiply(grad, gamma)\n",
    "        \n",
    "        # TODO: store x and objective function value\n",
    "        xs.append(x)\n",
    "        obj = calculate_objective(Axmb)\n",
    "        objectives.append(obj)        \n",
    "        \n",
    "        if abs(obj - objectives[-2]) < epsilon:\n",
    "                break\n",
    "        print(\"Gradient Descent({bi:2d}/{ti}): objective = {l}\".format(bi=n_iter, ti=max_iters - 1, l=obj))\n",
    "    return objectives, xs"
   ]
  },
  {
   "cell_type": "markdown",
   "metadata": {},
   "source": [
    "## Train your data\n",
    "\n",
    "You shoud assing values to parameters `max_iters` and `gamma`. you can use `Plotting the lines‍‍‍` and `Plotting the cost per iterations`"
   ]
  },
  {
   "cell_type": "code",
   "execution_count": 12,
   "metadata": {},
   "outputs": [
    {
     "name": "stdout",
     "output_type": "stream",
     "text": [
      "Gradient Descent( 0/99): objective = 55844734.255183354\n",
      "Gradient Descent( 1/99): objective = 45292701.12060006\n",
      "Gradient Descent( 2/99): objective = 36745554.281587616\n",
      "Gradient Descent( 3/99): objective = 29822365.341987513\n",
      "Gradient Descent( 4/99): objective = 24214582.30091145\n",
      "Gradient Descent( 5/99): objective = 19672278.03763982\n",
      "Gradient Descent( 6/99): objective = 15993011.584389808\n",
      "Gradient Descent( 7/99): objective = 13012805.757257296\n",
      "Gradient Descent( 8/99): objective = 10598839.037279963\n",
      "Gradient Descent( 9/99): objective = 8643525.994098324\n",
      "Gradient Descent(10/99): objective = 7059722.429121193\n",
      "Gradient Descent(11/99): objective = 5776841.541489718\n",
      "Gradient Descent(12/99): objective = 4737708.022508223\n",
      "Gradient Descent(13/99): objective = 3896009.8721332126\n",
      "Gradient Descent(14/99): objective = 3214234.370329454\n",
      "Gradient Descent(15/99): objective = 2661996.2138684113\n",
      "Gradient Descent(16/99): objective = 2214683.3071349654\n",
      "Gradient Descent(17/99): objective = 1852359.8526808736\n",
      "Gradient Descent(18/99): objective = 1558877.8545730594\n",
      "Gradient Descent(19/99): objective = 1321157.4361057305\n",
      "Gradient Descent(20/99): objective = 1128603.8971471942\n",
      "Gradient Descent(21/99): objective = 972635.5305907795\n",
      "Gradient Descent(22/99): objective = 846301.1536800838\n",
      "Gradient Descent(23/99): objective = 743970.30838242\n",
      "Gradient Descent(24/99): objective = 661082.3236913122\n",
      "Gradient Descent(25/99): objective = 593943.0560915151\n",
      "Gradient Descent(26/99): objective = 539560.2493356796\n",
      "Gradient Descent(27/99): objective = 495510.17586345214\n",
      "Gradient Descent(28/99): objective = 459829.6163509483\n",
      "Gradient Descent(29/99): objective = 430928.36314581987\n",
      "Gradient Descent(30/99): objective = 407518.348049666\n",
      "Gradient Descent(31/99): objective = 388556.2358217808\n",
      "Gradient Descent(32/99): objective = 373196.9249171945\n",
      "Gradient Descent(33/99): objective = 360755.8830844794\n",
      "Gradient Descent(34/99): objective = 350678.6391999798\n",
      "Gradient Descent(35/99): objective = 342516.07165353536\n",
      "Gradient Descent(36/99): objective = 335904.39194091543\n",
      "Gradient Descent(37/99): objective = 330548.9313736934\n",
      "Gradient Descent(38/99): objective = 326211.00831424334\n",
      "Gradient Descent(39/99): objective = 322697.2906360887\n",
      "Gradient Descent(40/99): objective = 319851.17931678356\n",
      "Gradient Descent(41/99): objective = 317545.8291481465\n",
      "Gradient Descent(42/99): objective = 315678.4955115502\n",
      "Gradient Descent(43/99): objective = 314165.9552659072\n",
      "Gradient Descent(44/99): objective = 312940.7976669366\n",
      "Gradient Descent(45/99): objective = 311948.42001177045\n",
      "Gradient Descent(46/99): objective = 311144.5941110858\n",
      "Gradient Descent(47/99): objective = 310493.49513153126\n",
      "Gradient Descent(48/99): objective = 309966.10495809204\n",
      "Gradient Descent(49/99): objective = 309538.91891760635\n",
      "Gradient Descent(50/99): objective = 309192.89822481276\n",
      "Gradient Descent(51/99): objective = 308912.6214636501\n",
      "Gradient Descent(52/99): objective = 308685.5972871083\n",
      "Gradient Descent(53/99): objective = 308501.7077041095\n",
      "Gradient Descent(54/99): objective = 308352.75714188017\n",
      "Gradient Descent(55/99): objective = 308232.10718647484\n",
      "Gradient Descent(56/99): objective = 308134.38072259625\n",
      "Gradient Descent(57/99): objective = 308055.2222868547\n",
      "Gradient Descent(58/99): objective = 307991.1039539041\n",
      "Gradient Descent(59/99): objective = 307939.168104214\n",
      "Gradient Descent(60/99): objective = 307897.1000659651\n",
      "Gradient Descent(61/99): objective = 307863.0249549835\n",
      "Gradient Descent(62/99): objective = 307835.42411508836\n",
      "Gradient Descent(63/99): objective = 307813.0674347732\n",
      "Gradient Descent(64/99): objective = 307794.95852371806\n",
      "Gradient Descent(65/99): objective = 307780.29030576337\n",
      "Gradient Descent(66/99): objective = 307768.40904922003\n",
      "Gradient Descent(67/99): objective = 307758.78523142\n",
      "Gradient Descent(68/99): objective = 307750.9899390019\n",
      "Gradient Descent(69/99): objective = 307744.67575214314\n",
      "Gradient Descent(70/99): objective = 307739.56126078777\n",
      "Gradient Descent(71/99): objective = 307735.41852278984\n",
      "Gradient Descent(72/99): objective = 307732.0629050114\n",
      "Gradient Descent(73/99): objective = 307729.34485461103\n",
      "Gradient Descent(74/99): objective = 307727.14323378657\n",
      "Gradient Descent(75/99): objective = 307725.35992091894\n",
      "Gradient Descent(76/99): objective = 307723.91543749603\n",
      "Gradient Descent(77/99): objective = 307722.7454059236\n",
      "Gradient Descent(78/99): objective = 307721.7976803498\n",
      "Gradient Descent(79/99): objective = 307721.03002263507\n",
      "Gradient Descent(80/99): objective = 307720.40821988625\n",
      "Gradient Descent(81/99): objective = 307719.9045596594\n",
      "Gradient Descent(82/99): objective = 307719.49659487593\n",
      "Gradient Descent(83/99): objective = 307719.16614340123\n",
      "Gradient Descent(84/99): objective = 307718.89847770665\n",
      "Gradient Descent(85/99): objective = 307718.68166849413\n",
      "Gradient Descent(86/99): objective = 307718.506053032\n",
      "Gradient Descent(87/99): objective = 307718.36380450765\n",
      "Gradient Descent(88/99): objective = 307718.24858320295\n",
      "Gradient Descent(89/99): objective = 307718.1552539461\n",
      "Gradient Descent(90/99): objective = 307718.0796572481\n",
      "Gradient Descent(91/99): objective = 307718.0184239226\n",
      "Gradient Descent(92/99): objective = 307717.968824929\n",
      "Gradient Descent(93/99): objective = 307717.92864974425\n",
      "Gradient Descent(94/99): objective = 307717.89610784454\n",
      "Gradient Descent(95/99): objective = 307717.86974890577\n",
      "Gradient Descent(96/99): objective = 307717.8483981655\n",
      "Gradient Descent(97/99): objective = 307717.83110406564\n",
      "Gradient Descent(98/99): objective = 307717.8170958449\n",
      "Gradient Descent(99/99): objective = 307717.8057491862\n",
      "Gradient Descent: execution time=0.193 seconds\n"
     ]
    }
   ],
   "source": [
    "import datetime\n",
    "\n",
    "# Define the parameters of the algorithm. you can use `Plotting the lines‍‍‍` part to check the parameters you choose.\n",
    "\n",
    "max_iters = 100 # maximum iteration of the algorithm\n",
    "\n",
    "gamma = 0.00001 # how big or small every steps are (usually between 0.000001 to 0.1 is ok!)\n",
    "\n",
    "# Initialization\n",
    "x_initial = np.zeros(A.shape[1])\n",
    "\n",
    "# Start gradient descent.\n",
    "start_time = datetime.datetime.now()\n",
    "gradient_objectives_naive, gradient_xs_naive = gradient_descent(b, A, x_initial, max_iters, gamma)\n",
    "end_time = datetime.datetime.now()\n",
    "\n",
    "# Print result\n",
    "exection_time = (end_time - start_time).total_seconds()\n",
    "print(\"Gradient Descent: execution time={t:.3f} seconds\".format(t=exection_time))"
   ]
  },
  {
   "cell_type": "markdown",
   "metadata": {},
   "source": [
    "## Plotting the lines"
   ]
  },
  {
   "cell_type": "code",
   "execution_count": 13,
   "metadata": {},
   "outputs": [
    {
     "data": {
      "image/png": "[encoded data removed]",
      "text/plain": [
       "<Figure size 432x288 with 1 Axes>"
      ]
     },
     "metadata": {
      "needs_background": "light"
     },
     "output_type": "display_data"
    }
   ],
   "source": [
    "plt.scatter(A[:, 1], b)\n",
    "for i in range(1, len(gradient_xs_naive)):\n",
    "    beta, alpha = gradient_xs_naive[i]\n",
    "    plt.plot(A[:, 1], alpha * A[:, 1] + beta, \"RED\")\n",
    "    plt.title(f'objective={gradient_objectives_naive[-1]}, y = {alpha}*x + {beta}', color=\"g\")"
   ]
  },
  {
   "cell_type": "markdown",
   "metadata": {},
   "source": [
    "## Plotting the cost per iterations"
   ]
  },
  {
   "cell_type": "code",
   "execution_count": 14,
   "metadata": {},
   "outputs": [
    {
     "data": {
      "image/png": "[encoded data removed]",
      "text/plain": [
       "<Figure size 432x288 with 1 Axes>"
      ]
     },
     "metadata": {
      "needs_background": "light"
     },
     "output_type": "display_data"
    }
   ],
   "source": [
    "plt.plot(gradient_objectives_naive[1:])\n",
    "plt.xlabel('No. of iterations')\n",
    "plt.ylabel('Cost')\n",
    "plt.title('Cost per iteration')\n",
    "plt.show()"
   ]
  },
  {
   "cell_type": "markdown",
   "metadata": {},
   "source": [
    "# 3. Load News popularity data\n",
    "This is a dataset of news with parameters for prediction how many shares every news get.\n",
    "To get more familar with the dataset please open `OnlineNewsPopularity.csv` and check the columns."
   ]
  },
  {
   "cell_type": "code",
   "execution_count": 15,
   "metadata": {},
   "outputs": [],
   "source": [
    "def load_news_data(sub_sample=True):\n",
    "    \"\"\"Load data and convert it to the metric system.\"\"\"\n",
    "    \n",
    "    path_dataset = \"OnlineNewsPopularity.csv\"\n",
    "    \n",
    "    data = np.genfromtxt(\n",
    "        path_dataset, delimiter=\",\", skip_header=1)\n",
    "    \n",
    "    data = data[:, 1:-2]\n",
    "    shares = data[:, -1]\n",
    "\n",
    "    # sub-sample\n",
    "    if sub_sample:\n",
    "        data = data[::50]\n",
    "        shares = shares[::50]\n",
    "    \n",
    "    return data, shares"
   ]
  },
  {
   "cell_type": "code",
   "execution_count": 16,
   "metadata": {},
   "outputs": [],
   "source": [
    "data, shares = load_news_data(sub_sample=False)"
   ]
  },
  {
   "cell_type": "code",
   "execution_count": 17,
   "metadata": {},
   "outputs": [
    {
     "data": {
      "text/plain": [
       "((39644, 58), (39644,))"
      ]
     },
     "execution_count": 17,
     "metadata": {},
     "output_type": "execute_result"
    }
   ],
   "source": [
    "data.shape,shares.shape"
   ]
  },
  {
   "cell_type": "markdown",
   "metadata": {},
   "source": [
    "# Compute LS using exact formulation"
   ]
  },
  {
   "cell_type": "code",
   "execution_count": 18,
   "metadata": {},
   "outputs": [],
   "source": [
    "def compute_least_square(A, b):\n",
    "    # YOUR CODE HERE\n",
    "    x = np.linalg.solve(np.matmul(A.T, A), np.matmul(A.T, b))\n",
    "    return x"
   ]
  },
  {
   "cell_type": "markdown",
   "metadata": {},
   "source": [
    "## Test the estimation\n",
    "you can compare your estimation to the real value of `shares` bellow:\n",
    "you can also plot the data"
   ]
  },
  {
   "cell_type": "code",
   "execution_count": 19,
   "metadata": {},
   "outputs": [
    {
     "data": {
      "text/plain": [
       "[<matplotlib.lines.Line2D at 0x7fe04c0b39a0>]"
      ]
     },
     "execution_count": 19,
     "metadata": {},
     "output_type": "execute_result"
    },
    {
     "data": {
      "image/png": "[encoded data removed]",
      "text/plain": [
       "<Figure size 432x288 with 1 Axes>"
      ]
     },
     "metadata": {
      "needs_background": "light"
     },
     "output_type": "display_data"
    }
   ],
   "source": [
    "# YOUR CODE HERE (OPTIONAL)\n",
    "coeff = compute_least_square(data, shares)\n",
    "estimation = np.matmul(data, coeff)\n",
    "plt.plot(range(100),shares[0:100], 'k', linewidth=5)\n",
    "plt.plot(range(100),estimation[0:100], 'w' , linewidth=1)"
   ]
  }
 ],
 "metadata": {
  "kernelspec": {
   "display_name": "Python 3",
   "language": "python",
   "name": "python3"
  },
  "language_info": {
   "codemirror_mode": {
    "name": "ipython",
    "version": 3
   },
   "file_extension": ".py",
   "mimetype": "text/x-python",
   "name": "python",
   "nbconvert_exporter": "python",
   "pygments_lexer": "ipython3",
   "version": "3.8.5"
  }
 },
 "nbformat": 4,
 "nbformat_minor": 4
}
